{
  "nbformat": 4,
  "nbformat_minor": 0,
  "metadata": {
    "colab": {
      "provenance": [],
      "authorship_tag": "ABX9TyMbB43r1NngrhJjKEJriSiP",
      "include_colab_link": true
    },
    "kernelspec": {
      "name": "python3",
      "display_name": "Python 3"
    },
    "language_info": {
      "name": "python"
    }
  },
  "cells": [
    {
      "cell_type": "markdown",
      "metadata": {
        "id": "view-in-github",
        "colab_type": "text"
      },
      "source": [
        "<a href=\"https://colab.research.google.com/github/duartefxp/Victor-Duarte---Algoritmo/blob/main/Corre%C3%A7%C3%A3o_de_c%C3%B3digos.ipynb\" target=\"_parent\"><img src=\"https://colab.research.google.com/assets/colab-badge.svg\" alt=\"Open In Colab\"/></a>"
      ]
    },
    {
      "cell_type": "code",
      "execution_count": 1,
      "metadata": {
        "colab": {
          "base_uri": "https://localhost:8080/"
        },
        "id": "y4T8tFo33Rz9",
        "outputId": "0015e06e-97dd-4dfa-fbdb-015cefea30c9"
      },
      "outputs": [
        {
          "output_type": "stream",
          "name": "stdout",
          "text": [
            "Calculadora de média ponderada do IFRN\n",
            "Digite o número de alunos: 3\n",
            "\n",
            "Aluno 1:\n",
            "Digite a nota 1 (com peso 2): 13\n",
            "Nota inválida. A nota deve estar entre 0 e 10.\n",
            "Digite a nota 1 (com peso 2): 8.7\n",
            "Digite a nota 2 (com peso 3): 11\n",
            "Nota inválida. A nota deve estar entre 0 e 10.\n",
            "Digite a nota 2 (com peso 3): 6.8\n",
            "A média ponderada das notas é: 7.56\n",
            "Aprovado\n",
            "\n",
            "Aluno 2:\n",
            "Digite a nota 1 (com peso 2): 14\n",
            "Nota inválida. A nota deve estar entre 0 e 10.\n",
            "Digite a nota 1 (com peso 2): 9.0\n",
            "Digite a nota 2 (com peso 3): 5.9\n",
            "A média ponderada das notas é: 7.14\n",
            "Aprovado\n",
            "\n",
            "Aluno 3:\n",
            "Digite a nota 1 (com peso 2): 7.6\n",
            "Digite a nota 2 (com peso 3): 9.1\n",
            "A média ponderada das notas é: 8.50\n",
            "Aprovado\n"
          ]
        }
      ],
      "source": [
        "print(\"Calculadora de média ponderada do IFRN\")\n",
        "\n",
        "# Perguntando, para quantos alunos, desejo calcular média\n",
        "num_alunos = int(input(\"Digite o número de alunos: \"))\n",
        "\n",
        "for aluno in range(1, num_alunos + 1):\n",
        "    # Imprima o número do aluno da vez\n",
        "    print(f\"\\nAluno {aluno}:\")\n",
        "\n",
        "    #Float, tipagem explícita, para garantir número fracionário\n",
        "    while True:\n",
        "        n1 = float(input(\"Digite a nota 1 (com peso 2): \"))\n",
        "        if 0 <= n1 <= 10:\n",
        "            break\n",
        "        else:\n",
        "            print(\"Nota inválida. A nota deve estar entre 0 e 10.\")\n",
        "\n",
        "    while True:\n",
        "        n2 = float(input(\"Digite a nota 2 (com peso 3): \"))\n",
        "        if 0 <= n2 <= 10:\n",
        "            break\n",
        "        else:\n",
        "            print(\"Nota inválida. A nota deve estar entre 0 e 10.\")\n",
        "\n",
        "    # Cálculo de média ponderada\n",
        "    media = (n1 * 2 + n2 * 3) / 5\n",
        "\n",
        "    # Impressão da média\n",
        "    print(f\"A média ponderada das notas é: {media:.2f}\")\n",
        "\n",
        "    # Apresentar se o aluno foi aprovado ou não\n",
        "    if media >= 6:\n",
        "        print(\"Aprovado\")\n",
        "    else:\n",
        "        if n1 >= 4 and n2 >= 4:\n",
        "            print(\"Prova final\")\n",
        "        else:\n",
        "            print(\"Reprovado\")"
      ]
    }
  ]
}