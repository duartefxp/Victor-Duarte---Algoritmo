{
  "nbformat": 4,
  "nbformat_minor": 0,
  "metadata": {
    "colab": {
      "provenance": [],
      "authorship_tag": "ABX9TyORfuwQ2iFMgRdVVEcKCXJM",
      "include_colab_link": true
    },
    "kernelspec": {
      "name": "python3",
      "display_name": "Python 3"
    },
    "language_info": {
      "name": "python"
    }
  },
  "cells": [
    {
      "cell_type": "markdown",
      "metadata": {
        "id": "view-in-github",
        "colab_type": "text"
      },
      "source": [
        "<a href=\"https://colab.research.google.com/github/duartefxp/Victor-Duarte---Algoritmo/blob/main/03_media_nota_ifrn_com_repeticao.ipynb\" target=\"_parent\"><img src=\"https://colab.research.google.com/assets/colab-badge.svg\" alt=\"Open In Colab\"/></a>"
      ]
    },
    {
      "cell_type": "code",
      "execution_count": 15,
      "metadata": {
        "colab": {
          "base_uri": "https://localhost:8080/"
        },
        "id": "Li19ql8choFN",
        "outputId": "50b169e9-edbf-4065-ae9e-5331b98b0a23"
      },
      "outputs": [
        {
          "output_type": "stream",
          "name": "stdout",
          "text": [
            "Calculadora de média ponderada do IFRN\n",
            "Digite o número de alunos: 2\n",
            "Digite a nota 1(com peso 2): 6.5\n",
            "Digite a nota 2(com peso 3): 7.3\n",
            "\n",
            "Aluno 1\n",
            "A média ponderada das notas é: 6.98\n",
            "Aprovado\n",
            "Digite a nota 1(com peso 2): 5.0\n",
            "Digite a nota 2(com peso 3): 8.4\n",
            "\n",
            "Aluno 2\n",
            "A média ponderada das notas é: 7.04\n",
            "Aprovado\n"
          ]
        }
      ],
      "source": [
        "print(\"Calculadora de média ponderada do IFRN\")\n",
        "\n",
        "#perguntando, para quantos alunos, desejo calcular média\n",
        "num_alunos = int(input(\"Digite o número de alunos: \"))\n",
        "for aluno in range(1, num_alunos+1):\n",
        "  #Float, tipagem explícita, para garantir número fracionário\n",
        "  n1 = float( input(\"Digite a nota 1(com peso 2): \") )\n",
        "  n2 = float( input(\"Digite a nota 2(com peso 3): \") )\n",
        "  #imprima o numero do aluno da vez\n",
        "  print(f\"\\nAluno {aluno}\")\n",
        "\n",
        "  #calculo de média ponderada\n",
        "  media = ((( n1 * 2 ) + ( n2 * 3)) / 5)\n",
        "\n",
        "  #impressão da média\n",
        "  print(f\"A média ponderada das notas é: {media:.2f}\")\n",
        "\n",
        "  #apresentar se o aluno foi aprovado ou não\n",
        "  if media>= 6:\n",
        "    print(\"Aprovado\")\n",
        "  else:\n",
        "    if n1 >= 4 and n2 >=4:\n",
        "      print(\"Prova final\")\n",
        "    else:\n",
        "      print(\"Reprovado\")"
      ]
    }
  ]
}