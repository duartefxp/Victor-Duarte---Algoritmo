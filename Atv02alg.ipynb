{
  "nbformat": 4,
  "nbformat_minor": 0,
  "metadata": {
    "colab": {
      "provenance": [],
      "authorship_tag": "ABX9TyM+nmcuE3iY6slerJkEkYZY",
      "include_colab_link": true
    },
    "kernelspec": {
      "name": "python3",
      "display_name": "Python 3"
    },
    "language_info": {
      "name": "python"
    }
  },
  "cells": [
    {
      "cell_type": "markdown",
      "metadata": {
        "id": "view-in-github",
        "colab_type": "text"
      },
      "source": [
        "<a href=\"https://colab.research.google.com/github/duartefxp/Victor-Duarte---Algoritmo/blob/main/Atv02alg.ipynb\" target=\"_parent\"><img src=\"https://colab.research.google.com/assets/colab-badge.svg\" alt=\"Open In Colab\"/></a>"
      ]
    },
    {
      "cell_type": "code",
      "execution_count": 1,
      "metadata": {
        "colab": {
          "base_uri": "https://localhost:8080/"
        },
        "id": "WeXUlUOYQJa_",
        "outputId": "661c11a6-97cd-451c-9f53-55b06f43b726"
      },
      "outputs": [
        {
          "output_type": "stream",
          "name": "stdout",
          "text": [
            "Quantas notas você tem? 2\n",
            "Insira a nota 1: 2\n",
            "Insira o peso da nota 1: 2\n",
            "Insira a nota 2: 9.5\n",
            "Insira o peso da nota 2: 3\n",
            "A nota final é: 6.50\n"
          ]
        }
      ],
      "source": [
        "def calcular_nota_final(notas, pesos):\n",
        "    # Verifica se o número de notas e pesos é o mesmo\n",
        "    if len(notas) != len(pesos):\n",
        "        return \"Erro: O número de notas não corresponde ao número de pesos.\"\n",
        "\n",
        "    # Calcula a nota final ponderada\n",
        "    nota_final = sum(nota * peso for nota, peso in zip(notas, pesos)) / sum(pesos)\n",
        "    return nota_final\n",
        "\n",
        "def main():\n",
        "    try:\n",
        "        num_notas = int(input(\"Quantas notas você tem? \"))\n",
        "        notas = []\n",
        "        pesos = []\n",
        "\n",
        "        # Obter as notas e pesos do usuário\n",
        "        for i in range(num_notas):\n",
        "            nota = float(input(f\"Insira a nota {i+1}: \"))\n",
        "            notas.append(nota)\n",
        "            peso = float(input(f\"Insira o peso da nota {i+1}: \"))\n",
        "            pesos.append(peso)\n",
        "\n",
        "        # Calcular a nota final\n",
        "        nota_final = calcular_nota_final(notas, pesos)\n",
        "        print(f\"A nota final é: {nota_final:.2f}\")\n",
        "\n",
        "    except ValueError:\n",
        "        print(\"Erro: Insira um número válido.\")\n",
        "\n",
        "if __name__ == \"__main__\":\n",
        "    main()"
      ]
    }
  ]
}