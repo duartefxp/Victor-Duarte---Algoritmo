{
  "nbformat": 4,
  "nbformat_minor": 0,
  "metadata": {
    "colab": {
      "provenance": [],
      "authorship_tag": "ABX9TyNBtbjpBpbIlZcLNoCfE1Dk",
      "include_colab_link": true
    },
    "kernelspec": {
      "name": "python3",
      "display_name": "Python 3"
    },
    "language_info": {
      "name": "python"
    }
  },
  "cells": [
    {
      "cell_type": "markdown",
      "metadata": {
        "id": "view-in-github",
        "colab_type": "text"
      },
      "source": [
        "<a href=\"https://colab.research.google.com/github/duartefxp/Victor-Duarte---Algoritmo/blob/main/atividade_02.ipynb\" target=\"_parent\"><img src=\"https://colab.research.google.com/assets/colab-badge.svg\" alt=\"Open In Colab\"/></a>"
      ]
    },
    {
      "cell_type": "code",
      "execution_count": 2,
      "metadata": {
        "colab": {
          "base_uri": "https://localhost:8080/"
        },
        "id": "yMDdeHUD4pMB",
        "outputId": "ef6bddbe-1437-4488-aa8c-217bc64ce9d7"
      },
      "outputs": [
        {
          "output_type": "stream",
          "name": "stdout",
          "text": [
            "Calculadora de média ponderada do IFRN\n",
            "Digite o número de alunos: 1\n",
            "Digite o peso para a nota 1: 2\n",
            "Digite o peso para a nota 2: 3\n",
            "\n",
            "Aluno 1:\n",
            "Digite a nota 1: 8.7\n",
            "Digite a nota 2: 7.6\n",
            "A média ponderada das notas é: 8.04\n",
            "Aprovado\n"
          ]
        }
      ],
      "source": [
        "\n",
        "print(\"Calculadora de média ponderada do IFRN\")\n",
        "\n",
        "# Perguntando, para quantos alunos, desejo calcular média\n",
        "num_alunos = int(input(\"Digite o número de alunos: \"))\n",
        "\n",
        "# Perguntando pelos pesos das notas\n",
        "peso_n1 = float(input(\"Digite o peso para a nota 1: \"))\n",
        "peso_n2 = float(input(\"Digite o peso para a nota 2: \"))\n",
        "\n",
        "for aluno in range(1, num_alunos + 1):\n",
        "    # Imprima o número do aluno da vez\n",
        "    print(f\"\\nAluno {aluno}:\")\n",
        "\n",
        "    # Float, tipagem explícita, para garantir número fracionário\n",
        "    while True:\n",
        "        n1 = float(input(\"Digite a nota 1: \"))\n",
        "        if 0 <= n1 <= 10:\n",
        "            break\n",
        "        else:\n",
        "            print(\"Nota inválida. A nota deve estar entre 0 e 10.\")\n",
        "\n",
        "    while True:\n",
        "        n2 = float(input(\"Digite a nota 2: \"))\n",
        "        if 0 <= n2 <= 10:\n",
        "            break\n",
        "        else:\n",
        "            print(\"Nota inválida. A nota deve estar entre 0 e 10.\")\n",
        "\n",
        "    # Cálculo de média ponderada com base nos pesos fornecidos pelo usuário\n",
        "    media = (n1 * peso_n1 + n2 * peso_n2) / (peso_n1 + peso_n2)\n",
        "\n",
        "    # Impressão da média\n",
        "    print(f\"A média ponderada das notas é: {media:.2f}\")\n",
        "\n",
        "    # Apresentar se o aluno foi aprovado ou não\n",
        "    if media >= 6:\n",
        "        print(\"Aprovado\")\n",
        "    else:\n",
        "        if n1 >= 4 and n2 >= 4:\n",
        "            print(\"Prova final\")\n",
        "        else:\n",
        "            print(\"Reprovado\")"
      ]
    }
  ]
}