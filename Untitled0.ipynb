{
  "nbformat": 4,
  "nbformat_minor": 0,
  "metadata": {
    "colab": {
      "provenance": [],
      "authorship_tag": "ABX9TyOa2srZf7hQmBfl+juBSjRe",
      "include_colab_link": true
    },
    "kernelspec": {
      "name": "python3",
      "display_name": "Python 3"
    },
    "language_info": {
      "name": "python"
    }
  },
  "cells": [
    {
      "cell_type": "markdown",
      "metadata": {
        "id": "view-in-github",
        "colab_type": "text"
      },
      "source": [
        "<a href=\"https://colab.research.google.com/github/duartefxp/Victor-Duarte---Algoritmo/blob/main/Untitled0.ipynb\" target=\"_parent\"><img src=\"https://colab.research.google.com/assets/colab-badge.svg\" alt=\"Open In Colab\"/></a>"
      ]
    },
    {
      "cell_type": "code",
      "execution_count": null,
      "metadata": {
        "colab": {
          "base_uri": "https://localhost:8080/"
        },
        "id": "KuIlLMQ9olYa",
        "outputId": "4d0107d9-ce15-4799-9acb-a6668298274d"
      },
      "outputs": [
        {
          "output_type": "stream",
          "name": "stdout",
          "text": [
            "Hello, world\n"
          ]
        }
      ],
      "source": [
        "1 #imprime \"Hello, world\" na tela\n",
        "2 print (\"Hello, world\")"
      ]
    },
    {
      "cell_type": "code",
      "source": [
        "#variáveis em phyton\n",
        "\n",
        "#Atribui a string \"Hello, world\" a variável message\n",
        "message = \"Hello, world\"\n",
        "#imprimir o conteúdo da variável message\n",
        "print (message)"
      ],
      "metadata": {
        "colab": {
          "base_uri": "https://localhost:8080/"
        },
        "id": "ArGFsQFjoqCB",
        "outputId": "ec6967e6-8472-4a49-d01a-40d7cf294497"
      },
      "execution_count": null,
      "outputs": [
        {
          "output_type": "stream",
          "name": "stdout",
          "text": [
            "Hello, world\n"
          ]
        }
      ]
    },
    {
      "cell_type": "code",
      "source": [
        "#Entrada de dados ao usuário\n",
        "#Solicitar ao usuário que insira seu nome\n",
        "nome = input(\"Qual o seu nome?\")\n",
        "print(\"Óla, \" + nome + \"!\")"
      ],
      "metadata": {
        "colab": {
          "base_uri": "https://localhost:8080/"
        },
        "id": "JOrO5CP1tOMG",
        "outputId": "ce6883e0-9a77-4754-abcb-dcf0d554ddeb"
      },
      "execution_count": 17,
      "outputs": [
        {
          "output_type": "stream",
          "name": "stdout",
          "text": [
            "Qual o seu nome?Victor Duarte\n",
            "Óla, Victor Duarte!\n"
          ]
        }
      ]
    },
    {
      "cell_type": "code",
      "source": [
        "print(\"Calculadora de média ponderada do IFRN\")\n",
        "#Float, tipagem explícita, para garantir número fracionário\n",
        "n1 = float( input(\"Digite a nota 1(com peso 2)\") )\n",
        "n2 = float( input(\"Digite a nota 2(com peso 3)\") )\n",
        "\n",
        "#calculo de média ponderada\n",
        "media = (n1 * n2 + 3) / 5\n",
        "\n",
        "#impressão da média\n",
        "print(f\"A média ponderada das notas é: {media:.2f}\")\n",
        "\n",
        "#impressão da média sem formatação\n",
        "print(\"A média ponderada das notas é: \", media)\n",
        "\n",
        "#impressão da média\n",
        "print(f\"A média ponderada das notas é: {media:.3f}\")"
      ],
      "metadata": {
        "colab": {
          "base_uri": "https://localhost:8080/"
        },
        "id": "Jj9IXavcxWHv",
        "outputId": "baccda4a-5e57-4efb-f3be-231ed661f37c"
      },
      "execution_count": 25,
      "outputs": [
        {
          "output_type": "stream",
          "name": "stdout",
          "text": [
            "Calculadora de média ponderada do IFRN\n",
            "Digite a nota 1(com peso 2)5.6\n",
            "Digite a nota 2(com peso 3)4.8\n",
            "A média ponderada das notas é: 5.98\n",
            "A média ponderada das notas é:  5.976\n",
            "A média ponderada das notas é: 5.976\n"
          ]
        }
      ]
    }
  ]
}