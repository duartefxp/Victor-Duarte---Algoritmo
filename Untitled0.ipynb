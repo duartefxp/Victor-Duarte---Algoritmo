{
  "nbformat": 4,
  "nbformat_minor": 0,
  "metadata": {
    "colab": {
      "provenance": [],
      "authorship_tag": "ABX9TyOYMZawwaL4xKeb0D/38iQv",
      "include_colab_link": true
    },
    "kernelspec": {
      "name": "python3",
      "display_name": "Python 3"
    },
    "language_info": {
      "name": "python"
    }
  },
  "cells": [
    {
      "cell_type": "markdown",
      "metadata": {
        "id": "view-in-github",
        "colab_type": "text"
      },
      "source": [
        "<a href=\"https://colab.research.google.com/github/duartefxp/Victor-Duarte---Algoritmo/blob/main/Untitled0.ipynb\" target=\"_parent\"><img src=\"https://colab.research.google.com/assets/colab-badge.svg\" alt=\"Open In Colab\"/></a>"
      ]
    },
    {
      "cell_type": "code",
      "execution_count": null,
      "metadata": {
        "colab": {
          "base_uri": "https://localhost:8080/"
        },
        "id": "KuIlLMQ9olYa",
        "outputId": "4d0107d9-ce15-4799-9acb-a6668298274d"
      },
      "outputs": [
        {
          "output_type": "stream",
          "name": "stdout",
          "text": [
            "Hello, world\n"
          ]
        }
      ],
      "source": [
        "1 #imprime \"Hello, world\" na tela\n",
        "2 print (\"Hello, world\")"
      ]
    },
    {
      "cell_type": "code",
      "source": [
        "#variáveis em phyton\n",
        "\n",
        "#Atribui a string \"Hello, world\" a variável message\n",
        "message = \"Hello, world\"\n",
        "#imprimir o conteúdo da variável message\n",
        "print (message)"
      ],
      "metadata": {
        "colab": {
          "base_uri": "https://localhost:8080/"
        },
        "id": "ArGFsQFjoqCB",
        "outputId": "ec6967e6-8472-4a49-d01a-40d7cf294497"
      },
      "execution_count": null,
      "outputs": [
        {
          "output_type": "stream",
          "name": "stdout",
          "text": [
            "Hello, world\n"
          ]
        }
      ]
    },
    {
      "cell_type": "code",
      "source": [
        "#Entrada de dados ao usuário\n",
        "#Solicitar ao usuário que insira seu nome\n",
        "nome = input(\"Qual o seu nome?\")\n",
        "print(\"Óla, \" + nome + \"!\")"
      ],
      "metadata": {
        "id": "JOrO5CP1tOMG"
      },
      "execution_count": null,
      "outputs": []
    }
  ]
}